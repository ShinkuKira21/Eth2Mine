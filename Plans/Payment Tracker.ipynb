{
 "cells": [
  {
   "cell_type": "markdown",
   "metadata": {},
   "source": [
    "Shinku Kira — Today at 11:00\n",
    "wValidShares = worker\n",
    "pValidShares = pool\n",
    "\n",
    "Shinku Kira — Today at 12:03\n",
    "and then what I simply do is add current wVS + wVS (previous record)  and divide by 2 and current pVS + pVS (previous record) and divide by 2\n",
    "(getting seperate means) and then meanWVS / meanPVS (which creates a percent.)\n",
    "\n",
    "\n",
    "DEMONSTRATION:\n",
    "\n",
    "Total Valid Shares:\n",
    "26\n",
    "38\n",
    "47\n",
    "\n",
    "Computer A:<br>\n",
    "6 (6 / 26 = 23%)<br>\n",
    "8 (6 + 8 = 14 / 2 = 7) (26 + 38 = 64 / 2 = 32) (7 / 32 = 22%)<br>\n",
    "7 (7 + 8 = 15 / 2 = 7.5) (47 + 38 = 85 / 2 = 42.5) (7.5 / 42.5 = 18%)<br>\n",
    "<br>\n",
    "Computer B:<br>\n",
    "20 (20 / 26 = 77%)<br>\n",
    "30 (20 + 30 = 50 / 2 = 25) (26 + 38 = 64 / 2 = 32) (25 / 32 = 78%)<br>\n",
    "40 (30 + 40 = 70 / 2 = 35) (38 + 47 = 85 / 2 = 42.5) (35 / 42.5 = 82%)<br>\n",
    "<br>\n",
    "Validation Check: 82 + 18 = 100%<br>\n",
    "then for the payments this is how it's going to work"
   ]
  },
  {
   "cell_type": "code",
   "execution_count": 181,
   "metadata": {},
   "outputs": [],
   "source": [
    "# Based on the last message sent\n",
    "# 3 Records is 30 Minutes\n",
    "totalUnpaid = [0.00001, 0.00009, 0.00015];\n",
    "compAPercentages = [0.23, 0.22, 0.18] # 23%, 22% and 18%\n",
    "compBPercentages = [0.77, 0.78, 0.82] # 77%, 78%, 82% (feel free to add up the seperate percentages)"
   ]
  },
  {
   "cell_type": "code",
   "execution_count": 182,
   "metadata": {},
   "outputs": [],
   "source": [
    "# First 10 mins\n",
    "# compAPercentage\n",
    "# totalUnpaid - last record\n",
    "compA = (totalUnpaid[0] - 0) * compAPercentages[0];\n",
    "compB = (totalUnpaid[0] - 0) * compBPercentages[0];\n",
    "compAA = []; compAA.append(compA); compAB = []; compAB.append(compB); totalAPayout = [];\n",
    "\n",
    "# totalUnpaid - last record\n",
    "compA =  (totalUnpaid[1] - totalUnpaid[0]) * compAPercentages[1];\n",
    "compB =  (totalUnpaid[1] - totalUnpaid[0])  * compBPercentages[1];\n",
    "compAA.append(compA); compAB.append(compB); \n",
    "\n",
    "# totalUnpaid - lastRecord\n",
    "compA = (totalUnpaid[2] - totalUnpaid[1]) * compAPercentages[2];\n",
    "compB = (totalUnpaid[2] - totalUnpaid[1]) * compBPercentages[2];\n",
    "compAA.append(compA); compAB.append(compB);"
   ]
  },
  {
   "cell_type": "code",
   "execution_count": 183,
   "metadata": {},
   "outputs": [
    {
     "name": "stdout",
     "output_type": "stream",
     "text": [
      "0 Mins (COMP A): 0.00000230\n",
      "0 Mins (COMP B): 0.00000770\n",
      "Unpaid Remaining (Check == 0): 0.00000000\n",
      "-----------\n",
      "10 Mins (COMP A): 0.00001760\n",
      "10 Mins (COMP B): 0.00006240\n",
      "Unpaid Remaining (Check == 0): -0.000000000000000000013552527156068805425093160010874271392822265625\n",
      "-----------\n",
      "10 Mins (COMP A): 0.00001080\n",
      "10 Mins (COMP B): 0.00004920\n",
      "Unpaid Remaining (Check == 0): 0.00000000\n"
     ]
    }
   ],
   "source": [
    "print(\"0 Mins (COMP A): \" + str(format(compAA[0], '.8f')))\n",
    "print(\"0 Mins (COMP B): \" + str(format(compAB[0], '.8f')))\n",
    "print(\"Unpaid Remaining (Check == 0): \" + str(format(totalUnpaid[0] - (compAA[0] + compAB[0]), '.8f')))\n",
    "print(\"-----------\")\n",
    "print(\"10 Mins (COMP A): \" + str(format(compAA[1], '.8f')))\n",
    "print(\"10 Mins (COMP B): \" + str(format(compAB[1], '.8f')))\n",
    "checkDiff = (totalUnpaid[1] - totalUnpaid[0])\n",
    "print(\"Unpaid Remaining (Check == 0): \" + str(format(checkDiff - (compAA[1] + compAB[1]), '.66f')))\n",
    "print(\"-----------\")\n",
    "print(\"10 Mins (COMP A): \" + str(format(compAA[2], '.8f')))\n",
    "print(\"10 Mins (COMP B): \" + str(format(compAB[2], '.8f')))\n",
    "checkDiff = (totalUnpaid[2] - totalUnpaid[1])\n",
    "print(\"Unpaid Remaining (Check == 0): \" + str(format(checkDiff - (compAA[2] + compAB[2]), '.8f')))\n"
   ]
  }
 ],
 "metadata": {
  "kernelspec": {
   "display_name": "Python 3",
   "language": "python",
   "name": "python3"
  },
  "language_info": {
   "codemirror_mode": {
    "name": "ipython",
    "version": 3
   },
   "file_extension": ".py",
   "mimetype": "text/x-python",
   "name": "python",
   "nbconvert_exporter": "python",
   "pygments_lexer": "ipython3",
   "version": "3.7.9"
  }
 },
 "nbformat": 4,
 "nbformat_minor": 4
}
