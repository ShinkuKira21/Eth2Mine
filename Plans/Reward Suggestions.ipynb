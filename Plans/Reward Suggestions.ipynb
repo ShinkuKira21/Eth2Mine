{
 "metadata": {
  "language_info": {
   "codemirror_mode": {
    "name": "ipython",
    "version": 3
   },
   "file_extension": ".py",
   "mimetype": "text/x-python",
   "name": "python",
   "nbconvert_exporter": "python",
   "pygments_lexer": "ipython3",
   "version": "3.7.3"
  },
  "orig_nbformat": 2,
  "kernelspec": {
   "name": "python373jvsc74a57bd031f2aee4e71d21fbe5cf8b01ff0e069b9275f58929596ceb00d14d90e3e16cd6",
   "display_name": "Python 3.7.3 64-bit"
  }
 },
 "nbformat": 4,
 "nbformat_minor": 2,
 "cells": [
  {
   "source": [
    "## Terminology\n",
    "<i>BI</i> - before interest,\n",
    "<i>IPD</i> - interest per day,\n",
    "<i>IPW</i> - interest per week,\n",
    "<i>FR</i> - final reward"
   ],
   "cell_type": "markdown",
   "metadata": {}
  },
  {
   "cell_type": "code",
   "execution_count": 28,
   "metadata": {},
   "outputs": [],
   "source": [
    "clients = [0.001, 0.002, 0.0015]\n",
    "totalPot = clients[0] + clients[1] + clients[2]\n",
    "binanceIPW = 1.20\n",
    "binanceIPD = binanceIPW / 7"
   ]
  },
  {
   "cell_type": "code",
   "execution_count": 32,
   "metadata": {},
   "outputs": [
    {
     "output_type": "stream",
     "name": "stdout",
     "text": [
      "Total Pot: 0.0045eth | Client 0 Reward (bi): 0.001eth | Client 1 Reward (bi): 0.002eth | Client 2 Reward (bi): 0.0015eth | \nPot Interest Rate (ipd): 0.17% | Client Interest Rate (ipw): 0.40%\nClient 0 Final Rewards: 0.00100 | Client 0 Difference: 0.00120000 | Increase: 0.45%\nClient 1 Final Rewards: 0.00200 | Client 1 Difference: 0.00240000 | Increase: 0.45%\nClient 2 Final Rewards: 0.00150 | Client 2 Difference: 0.00180000 | Increase: 0.45%\n"
     ]
    }
   ],
   "source": [
    "print(\"Total Pot: \" + str(format(totalPot, '.4f')) + \"eth\", end=' | ')\n",
    "\n",
    "for i in range(0, 3) :\n",
    "    print(\"Client \" + str(i) + \" Reward (bi): \" + str(clients[i]) + \"eth\", end=' | ')\n",
    "\n",
    "print(\"\\nPot Interest Rate (ipd): \" + str(format(binanceIPD, '.2f')) + \"%\", end=' | ')\n",
    "print(\"Client Interest Rate (ipw): \" + str(format(binanceIPW / 3, '.2f')) + \"%\")\n",
    "\n",
    "for i in range(0, 3) :\n",
    "    difference = clients[i]\n",
    "    clientsFR = clients[i] + (clients[i] * binanceIPW)\n",
    "    difference -= clientsFR; difference *= -1; change = clients[i] / clientsFR\n",
    "    print(\"Client \" + str(i) + \" Final Rewards: \" + str(format(clients[i], '.5f')), end=' | ')\n",
    "    print(\"Client \" + str(i) + \" Difference: \" + str(format(difference, '.8f')) + \" | Increase: \" + str(format(change, '.2f')) + \"%\")"
   ]
  }
 ]
}